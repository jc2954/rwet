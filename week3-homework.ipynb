{
 "cells": [
  {
   "cell_type": "markdown",
   "id": "ec360d8d",
   "metadata": {},
   "source": [
    "Extracted random text from homepage of New York Time. Reorganized the text in to dictionary according to the lenght of words. Display the multiple lines of text with same word length.\n",
    "\n",
    "Also did expercise C https://github.com/jc2954/rwet/blob/main/programming-exercise-c.ipynb"
   ]
  },
  {
   "cell_type": "code",
   "execution_count": 1,
   "id": "3487e028",
   "metadata": {},
   "outputs": [],
   "source": [
    "rt = open(\"read.txt\").read()"
   ]
  },
  {
   "cell_type": "code",
   "execution_count": 2,
   "id": "05b71843",
   "metadata": {},
   "outputs": [
    {
     "name": "stdout",
     "output_type": "stream",
     "text": [
      "Trump’s Legal Troubles\n",
      "\n",
      "Key Inquiries\n",
      "Case Tracker\n",
      "3 Supreme Court Cases\n",
      "Ballot Challenges\n",
      "E. Jean Carroll Trial\n",
      "BREAKING\n",
      "\n",
      "Georgia Judge Will Hear Evidence on Relationship Between Trump Prosecutors\n",
      "\n",
      "Defense lawyers have accused Fani Willis, the Fulton County district attorney, of hiring Nathan Wade to run the case after they began a romantic relationship.\n",
      "\n",
      "1 MIN READ\n",
      "\n",
      "Trump Faces Supreme Court Deadline on Claim of Absolute Immunity\n",
      "\n",
      "A federal appeals court gave Donald Trump until Monday to ask the justices to pause its ruling while he pursues an appeal.\n",
      "\n",
      "4 MIN READ\n",
      "\n",
      "Hours after hearing arguments about whether Donald Trump could hold office, Justice Elena Kagan offered some reflections.\n",
      "\n",
      "3 MIN READ\n",
      "\n",
      "The allegations of a romantic relationship between the prosecutors Fani T. Willis and Nathan J. Wade first surfaced in a motion filed on Jan. 8.\n",
      "John Bazemore/Associated Press\n",
      "LIVE\n",
      "\n",
      "Feb. 12, 2024, 4:01 p.m. ET2m ago\n",
      "2M AGO\n",
      "Hostage Rescue Raises Israelis’ Hopes; Gazans Fear New Wave of Bloodshed\n",
      "\n",
      "A raid by Israeli forces in Rafah freed two hostages held by Hamas, the military said, and overnight attacks killed dozens of Palestinians, Gazan officials said.\n",
      "\n",
      "See more updates 8+\n",
      "\n",
      "Here’s what to know about the two hostages who were rescued in Rafah.\n",
      "\n",
      "3 MIN READ\n",
      "\n",
      "\n",
      "\n",
      "A court in the Netherlands ordered the Dutch government to stop exporting parts for F-35 fighter jets to Israel.\n",
      "\n",
      "3 MIN READ\n",
      "\n",
      "She Survived an Airstrike That Killed Her Entire Family in Gaza\n",
      "\n",
      "3:36\n",
      "Mona El-Naggar, Neil Collier and Kristen Williamson\n",
      "Super Bowl LVIII\n",
      "\n",
      "From The Athletic\n",
      "Usher’s Halftime Show\n",
      "The Commercials, Ranked\n",
      "Taylor Swift’s Journey\n",
      "Kelce, After a Season Under the Microscope, Finishes ‘On Top of the World’\n",
      "\n",
      "Travis Kelce had to provide even more leadership and poise, all while dealing with a new level of pressure on the field and intense scrutiny off it.\n",
      "\n",
      "FROM THE ATHLETIC\n",
      "\n",
      "Tony Romo and his play-by-play partner Jim Nantz’s lack of teamwork showed up at the worst time, our columnist writes.\n",
      "\n",
      "FROM THE ATHLETIC\n",
      "\n",
      "Our television critic ranked all of the Super Bowl ads from best to worst.\n",
      "\n",
      "8 MIN READ\n",
      "\n",
      "A dark-haired man in glasses smiles and stands behind a blond woman with red earrings and stunned facial expression.\n",
      "CoStar Group, the real estate analytics company, made its Super Bowl debut with four ads.\n",
      "\n",
      "4 MIN READ\n",
      "\n",
      "\n",
      "Some 49ers players said they were unaware of the Super Bowl’s overtime rules.\n",
      "\n",
      "FROM THE ATHLETIC\n",
      "\n",
      "A packed stage featuring Usher, Ludacris, Lil Jon and many others on a stage at the Super Bowl halftime show.\n",
      "In his halftime show, Usher delivered a lesson in intimate showmanship, our critic writes.\n",
      "\n",
      "3 MIN READ\n",
      "\n",
      "A man wearing a red football jersey raising his arms with televisions behind him showing the football game. \n",
      "With daunting prices in the Super Bowl host city, some San Francisco gamblers embraced an alternative.\n",
      "\n",
      "5 MIN READ\n",
      "\n",
      "\n",
      "Is Kansas City’s Andy Reid now one of the best N.F.L. coaches of all time?\n",
      "\n",
      "FROM THE ATHLETIC\n",
      "\n",
      "A model poses backstage in an outfit composed of googly-eye circlets on top and an abbreviated skirt of mini googlies. She holds two metal googly eyes over her own eyes. \n",
      "At the Super Bowl, Taylor Swift gave a fashion week brand a boost.\n",
      "\n",
      "3 MIN READ\n",
      "\n",
      "\n",
      "The Doomsday Clock Keeps Ticking\n",
      "\n",
      "Are humans the only beings in the universe confronting global self-destruction? Or just the last ones standing?\n",
      "\n",
      "5 MIN READ\n",
      "\n",
      "\n",
      "Photo Illustration by The New York Times\n",
      "Nor’easter Expected to Bring New York City’s Heaviest Snow in Over 2 Years\n",
      "\n",
      "A storm starting Monday night will bring heavy snow to parts of New Jersey, New York and Connecticut, forecasters said.\n",
      "\n",
      "3 MIN READ\n",
      "\n",
      "New York City public schools will hold classes remotely on Tuesday, as the metro area prepares for heavy snowfall.\n",
      "\n",
      "2 MIN READ\n",
      "\n",
      "\n",
      "Aatish Bhatia, Josh Katz and John Keefe\n",
      "The Great Read\n",
      "What Happens When TikTok Is Your Marketing Department\n",
      "\n",
      "The Pink Stuff, a home cleaning paste, went from total obscurity to viral sensation — and Walmart staple — thanks to one “cleanfluencer” and her legion of fans.\n",
      "\n",
      "6 MIN READ\n",
      "\n",
      "Tubs of The Pink Stuff on a conveyor. \n",
      "Sam Bush for The New York Times\n",
      "How China Built Its Tesla Killer\n",
      "\n",
      "The leading Chinese electric vehicle company, BYD, started as a battery maker. Its sales have grown by about a million cars in each of the past two years.\n",
      "\n",
      "6 MIN READ\n"
     ]
    }
   ],
   "source": [
    "print(rt)"
   ]
  },
  {
   "cell_type": "code",
   "execution_count": 4,
   "id": "3c13c5e6",
   "metadata": {},
   "outputs": [
    {
     "data": {
      "text/plain": [
       "str"
      ]
     },
     "execution_count": 4,
     "metadata": {},
     "output_type": "execute_result"
    }
   ],
   "source": [
    "type(rt)"
   ]
  },
  {
   "cell_type": "code",
   "execution_count": 14,
   "id": "15288072",
   "metadata": {},
   "outputs": [],
   "source": [
    "rta = rt.split(\"\\n\")"
   ]
  },
  {
   "cell_type": "code",
   "execution_count": 15,
   "id": "f3c680a6",
   "metadata": {},
   "outputs": [
    {
     "name": "stdout",
     "output_type": "stream",
     "text": [
      "['Trump’s Legal Troubles', '', 'Key Inquiries', 'Case Tracker', '3 Supreme Court Cases', 'Ballot Challenges', 'E. Jean Carroll Trial', 'BREAKING', '', 'Georgia Judge Will Hear Evidence on Relationship Between Trump Prosecutors', '', 'Defense lawyers have accused Fani Willis, the Fulton County district attorney, of hiring Nathan Wade to run the case after they began a romantic relationship.', '', '1 MIN READ', '', 'Trump Faces Supreme Court Deadline on Claim of Absolute Immunity', '', 'A federal appeals court gave Donald Trump until Monday to ask the justices to pause its ruling while he pursues an appeal.', '', '4 MIN READ', '', 'Hours after hearing arguments about whether Donald Trump could hold office, Justice Elena Kagan offered some reflections.', '', '3 MIN READ', '', 'The allegations of a romantic relationship between the prosecutors Fani T. Willis and Nathan J. Wade first surfaced in a motion filed on Jan. 8.', 'John Bazemore/Associated Press', 'LIVE', '', 'Feb. 12, 2024, 4:01 p.m. ET2m ago', '2M AGO', 'Hostage Rescue Raises Israelis’ Hopes; Gazans Fear New Wave of Bloodshed', '', 'A raid by Israeli forces in Rafah freed two hostages held by Hamas, the military said, and overnight attacks killed dozens of Palestinians, Gazan officials said.', '', 'See more updates 8+', '', 'Here’s what to know about the two hostages who were rescued in Rafah.', '', '3 MIN READ', '', '', '', 'A court in the Netherlands ordered the Dutch government to stop exporting parts for F-35 fighter jets to Israel.', '', '3 MIN READ', '', 'She Survived an Airstrike That Killed Her Entire Family in Gaza', '', '3:36', 'Mona El-Naggar, Neil Collier and Kristen Williamson', 'Super Bowl LVIII', '', 'From The Athletic', 'Usher’s Halftime Show', 'The Commercials, Ranked', 'Taylor Swift’s Journey', 'Kelce, After a Season Under the Microscope, Finishes ‘On Top of the World’', '', 'Travis Kelce had to provide even more leadership and poise, all while dealing with a new level of pressure on the field and intense scrutiny off it.', '', 'FROM THE ATHLETIC', '', 'Tony Romo and his play-by-play partner Jim Nantz’s lack of teamwork showed up at the worst time, our columnist writes.', '', 'FROM THE ATHLETIC', '', 'Our television critic ranked all of the Super Bowl ads from best to worst.', '', '8 MIN READ', '', 'A dark-haired man in glasses smiles and stands behind a blond woman with red earrings and stunned facial expression.', 'CoStar Group, the real estate analytics company, made its Super Bowl debut with four ads.', '', '4 MIN READ', '', '', 'Some 49ers players said they were unaware of the Super Bowl’s overtime rules.', '', 'FROM THE ATHLETIC', '', 'A packed stage featuring Usher, Ludacris, Lil Jon and many others on a stage at the Super Bowl halftime show.', 'In his halftime show, Usher delivered a lesson in intimate showmanship, our critic writes.', '', '3 MIN READ', '', 'A man wearing a red football jersey raising his arms with televisions behind him showing the football game. ', 'With daunting prices in the Super Bowl host city, some San Francisco gamblers embraced an alternative.', '', '5 MIN READ', '', '', 'Is Kansas City’s Andy Reid now one of the best N.F.L. coaches of all time?', '', 'FROM THE ATHLETIC', '', 'A model poses backstage in an outfit composed of googly-eye circlets on top and an abbreviated skirt of mini googlies. She holds two metal googly eyes over her own eyes. ', 'At the Super Bowl, Taylor Swift gave a fashion week brand a boost.', '', '3 MIN READ', '', '', 'The Doomsday Clock Keeps Ticking', '', 'Are humans the only beings in the universe confronting global self-destruction? Or just the last ones standing?', '', '5 MIN READ', '', '', 'Photo Illustration by The New York Times', 'Nor’easter Expected to Bring New York City’s Heaviest Snow in Over 2 Years', '', 'A storm starting Monday night will bring heavy snow to parts of New Jersey, New York and Connecticut, forecasters said.', '', '3 MIN READ', '', 'New York City public schools will hold classes remotely on Tuesday, as the metro area prepares for heavy snowfall.', '', '2 MIN READ', '', '', 'Aatish Bhatia, Josh Katz and John Keefe', 'The Great Read', 'What Happens When TikTok Is Your Marketing Department', '', 'The Pink Stuff, a home cleaning paste, went from total obscurity to viral sensation — and Walmart staple — thanks to one “cleanfluencer” and her legion of fans.', '', '6 MIN READ', '', 'Tubs of The Pink Stuff on a conveyor. ', 'Sam Bush for The New York Times', 'How China Built Its Tesla Killer', '', 'The leading Chinese electric vehicle company, BYD, started as a battery maker. Its sales have grown by about a million cars in each of the past two years.', '', '6 MIN READ']\n"
     ]
    }
   ],
   "source": [
    "print(rta)"
   ]
  },
  {
   "cell_type": "code",
   "execution_count": 16,
   "id": "076159e8",
   "metadata": {},
   "outputs": [
    {
     "data": {
      "text/plain": [
       "list"
      ]
     },
     "execution_count": 16,
     "metadata": {},
     "output_type": "execute_result"
    }
   ],
   "source": [
    "type(rta)"
   ]
  },
  {
   "cell_type": "code",
   "execution_count": 25,
   "id": "106894d1",
   "metadata": {},
   "outputs": [],
   "source": [
    "rta.remove(\"\")\n",
    "    "
   ]
  },
  {
   "cell_type": "code",
   "execution_count": 26,
   "id": "66c1b9d3",
   "metadata": {},
   "outputs": [
    {
     "name": "stdout",
     "output_type": "stream",
     "text": [
      "['Trump’s Legal Troubles', 'Key Inquiries', 'Case Tracker', '3 Supreme Court Cases', 'Ballot Challenges', 'E. Jean Carroll Trial', 'BREAKING', 'Georgia Judge Will Hear Evidence on Relationship Between Trump Prosecutors', 'Defense lawyers have accused Fani Willis, the Fulton County district attorney, of hiring Nathan Wade to run the case after they began a romantic relationship.', '', '1 MIN READ', '', 'Trump Faces Supreme Court Deadline on Claim of Absolute Immunity', '', 'A federal appeals court gave Donald Trump until Monday to ask the justices to pause its ruling while he pursues an appeal.', '', '4 MIN READ', '', 'Hours after hearing arguments about whether Donald Trump could hold office, Justice Elena Kagan offered some reflections.', '', '3 MIN READ', '', 'The allegations of a romantic relationship between the prosecutors Fani T. Willis and Nathan J. Wade first surfaced in a motion filed on Jan. 8.', 'John Bazemore/Associated Press', 'LIVE', '', 'Feb. 12, 2024, 4:01 p.m. ET2m ago', '2M AGO', 'Hostage Rescue Raises Israelis’ Hopes; Gazans Fear New Wave of Bloodshed', '', 'A raid by Israeli forces in Rafah freed two hostages held by Hamas, the military said, and overnight attacks killed dozens of Palestinians, Gazan officials said.', '', 'See more updates 8+', '', 'Here’s what to know about the two hostages who were rescued in Rafah.', '', '3 MIN READ', '', '', '', 'A court in the Netherlands ordered the Dutch government to stop exporting parts for F-35 fighter jets to Israel.', '', '3 MIN READ', '', 'She Survived an Airstrike That Killed Her Entire Family in Gaza', '', '3:36', 'Mona El-Naggar, Neil Collier and Kristen Williamson', 'Super Bowl LVIII', '', 'From The Athletic', 'Usher’s Halftime Show', 'The Commercials, Ranked', 'Taylor Swift’s Journey', 'Kelce, After a Season Under the Microscope, Finishes ‘On Top of the World’', '', 'Travis Kelce had to provide even more leadership and poise, all while dealing with a new level of pressure on the field and intense scrutiny off it.', '', 'FROM THE ATHLETIC', '', 'Tony Romo and his play-by-play partner Jim Nantz’s lack of teamwork showed up at the worst time, our columnist writes.', '', 'FROM THE ATHLETIC', '', 'Our television critic ranked all of the Super Bowl ads from best to worst.', '', '8 MIN READ', '', 'A dark-haired man in glasses smiles and stands behind a blond woman with red earrings and stunned facial expression.', 'CoStar Group, the real estate analytics company, made its Super Bowl debut with four ads.', '', '4 MIN READ', '', '', 'Some 49ers players said they were unaware of the Super Bowl’s overtime rules.', '', 'FROM THE ATHLETIC', '', 'A packed stage featuring Usher, Ludacris, Lil Jon and many others on a stage at the Super Bowl halftime show.', 'In his halftime show, Usher delivered a lesson in intimate showmanship, our critic writes.', '', '3 MIN READ', '', 'A man wearing a red football jersey raising his arms with televisions behind him showing the football game. ', 'With daunting prices in the Super Bowl host city, some San Francisco gamblers embraced an alternative.', '', '5 MIN READ', '', '', 'Is Kansas City’s Andy Reid now one of the best N.F.L. coaches of all time?', '', 'FROM THE ATHLETIC', '', 'A model poses backstage in an outfit composed of googly-eye circlets on top and an abbreviated skirt of mini googlies. She holds two metal googly eyes over her own eyes. ', 'At the Super Bowl, Taylor Swift gave a fashion week brand a boost.', '', '3 MIN READ', '', '', 'The Doomsday Clock Keeps Ticking', '', 'Are humans the only beings in the universe confronting global self-destruction? Or just the last ones standing?', '', '5 MIN READ', '', '', 'Photo Illustration by The New York Times', 'Nor’easter Expected to Bring New York City’s Heaviest Snow in Over 2 Years', '', 'A storm starting Monday night will bring heavy snow to parts of New Jersey, New York and Connecticut, forecasters said.', '', '3 MIN READ', '', 'New York City public schools will hold classes remotely on Tuesday, as the metro area prepares for heavy snowfall.', '', '2 MIN READ', '', '', 'Aatish Bhatia, Josh Katz and John Keefe', 'The Great Read', 'What Happens When TikTok Is Your Marketing Department', '', 'The Pink Stuff, a home cleaning paste, went from total obscurity to viral sensation — and Walmart staple — thanks to one “cleanfluencer” and her legion of fans.', '', '6 MIN READ', '', 'Tubs of The Pink Stuff on a conveyor. ', 'Sam Bush for The New York Times', 'How China Built Its Tesla Killer', '', 'The leading Chinese electric vehicle company, BYD, started as a battery maker. Its sales have grown by about a million cars in each of the past two years.', '', '6 MIN READ']\n"
     ]
    }
   ],
   "source": [
    "print(rta)"
   ]
  },
  {
   "cell_type": "code",
   "execution_count": 27,
   "id": "dcd055f9",
   "metadata": {},
   "outputs": [
    {
     "data": {
      "text/plain": [
       "['Trump’s Legal Troubles',\n",
       " 'Key Inquiries',\n",
       " 'Case Tracker',\n",
       " '3 Supreme Court Cases',\n",
       " 'Ballot Challenges',\n",
       " 'E. Jean Carroll Trial',\n",
       " 'BREAKING',\n",
       " 'Georgia Judge Will Hear Evidence on Relationship Between Trump Prosecutors',\n",
       " 'Defense lawyers have accused Fani Willis, the Fulton County district attorney, of hiring Nathan Wade to run the case after they began a romantic relationship.',\n",
       " '',\n",
       " '1 MIN READ',\n",
       " '',\n",
       " 'Trump Faces Supreme Court Deadline on Claim of Absolute Immunity',\n",
       " '',\n",
       " 'A federal appeals court gave Donald Trump until Monday to ask the justices to pause its ruling while he pursues an appeal.',\n",
       " '',\n",
       " '4 MIN READ',\n",
       " '',\n",
       " 'Hours after hearing arguments about whether Donald Trump could hold office, Justice Elena Kagan offered some reflections.',\n",
       " '',\n",
       " '3 MIN READ',\n",
       " '',\n",
       " 'The allegations of a romantic relationship between the prosecutors Fani T. Willis and Nathan J. Wade first surfaced in a motion filed on Jan. 8.',\n",
       " 'John Bazemore/Associated Press',\n",
       " 'LIVE',\n",
       " '',\n",
       " 'Feb. 12, 2024, 4:01 p.m. ET2m ago',\n",
       " '2M AGO',\n",
       " 'Hostage Rescue Raises Israelis’ Hopes; Gazans Fear New Wave of Bloodshed',\n",
       " '',\n",
       " 'A raid by Israeli forces in Rafah freed two hostages held by Hamas, the military said, and overnight attacks killed dozens of Palestinians, Gazan officials said.',\n",
       " '',\n",
       " 'See more updates 8+',\n",
       " '',\n",
       " 'Here’s what to know about the two hostages who were rescued in Rafah.',\n",
       " '',\n",
       " '3 MIN READ',\n",
       " '',\n",
       " '',\n",
       " '',\n",
       " 'A court in the Netherlands ordered the Dutch government to stop exporting parts for F-35 fighter jets to Israel.',\n",
       " '',\n",
       " '3 MIN READ',\n",
       " '',\n",
       " 'She Survived an Airstrike That Killed Her Entire Family in Gaza',\n",
       " '',\n",
       " '3:36',\n",
       " 'Mona El-Naggar, Neil Collier and Kristen Williamson',\n",
       " 'Super Bowl LVIII',\n",
       " '',\n",
       " 'From The Athletic',\n",
       " 'Usher’s Halftime Show',\n",
       " 'The Commercials, Ranked',\n",
       " 'Taylor Swift’s Journey',\n",
       " 'Kelce, After a Season Under the Microscope, Finishes ‘On Top of the World’',\n",
       " '',\n",
       " 'Travis Kelce had to provide even more leadership and poise, all while dealing with a new level of pressure on the field and intense scrutiny off it.',\n",
       " '',\n",
       " 'FROM THE ATHLETIC',\n",
       " '',\n",
       " 'Tony Romo and his play-by-play partner Jim Nantz’s lack of teamwork showed up at the worst time, our columnist writes.',\n",
       " '',\n",
       " 'FROM THE ATHLETIC',\n",
       " '',\n",
       " 'Our television critic ranked all of the Super Bowl ads from best to worst.',\n",
       " '',\n",
       " '8 MIN READ',\n",
       " '',\n",
       " 'A dark-haired man in glasses smiles and stands behind a blond woman with red earrings and stunned facial expression.',\n",
       " 'CoStar Group, the real estate analytics company, made its Super Bowl debut with four ads.',\n",
       " '',\n",
       " '4 MIN READ',\n",
       " '',\n",
       " '',\n",
       " 'Some 49ers players said they were unaware of the Super Bowl’s overtime rules.',\n",
       " '',\n",
       " 'FROM THE ATHLETIC',\n",
       " '',\n",
       " 'A packed stage featuring Usher, Ludacris, Lil Jon and many others on a stage at the Super Bowl halftime show.',\n",
       " 'In his halftime show, Usher delivered a lesson in intimate showmanship, our critic writes.',\n",
       " '',\n",
       " '3 MIN READ',\n",
       " '',\n",
       " 'A man wearing a red football jersey raising his arms with televisions behind him showing the football game. ',\n",
       " 'With daunting prices in the Super Bowl host city, some San Francisco gamblers embraced an alternative.',\n",
       " '',\n",
       " '5 MIN READ',\n",
       " '',\n",
       " '',\n",
       " 'Is Kansas City’s Andy Reid now one of the best N.F.L. coaches of all time?',\n",
       " '',\n",
       " 'FROM THE ATHLETIC',\n",
       " '',\n",
       " 'A model poses backstage in an outfit composed of googly-eye circlets on top and an abbreviated skirt of mini googlies. She holds two metal googly eyes over her own eyes. ',\n",
       " 'At the Super Bowl, Taylor Swift gave a fashion week brand a boost.',\n",
       " '',\n",
       " '3 MIN READ',\n",
       " '',\n",
       " '',\n",
       " 'The Doomsday Clock Keeps Ticking',\n",
       " '',\n",
       " 'Are humans the only beings in the universe confronting global self-destruction? Or just the last ones standing?',\n",
       " '',\n",
       " '5 MIN READ',\n",
       " '',\n",
       " '',\n",
       " 'Photo Illustration by The New York Times',\n",
       " 'Nor’easter Expected to Bring New York City’s Heaviest Snow in Over 2 Years',\n",
       " '',\n",
       " 'A storm starting Monday night will bring heavy snow to parts of New Jersey, New York and Connecticut, forecasters said.',\n",
       " '',\n",
       " '3 MIN READ',\n",
       " '',\n",
       " 'New York City public schools will hold classes remotely on Tuesday, as the metro area prepares for heavy snowfall.',\n",
       " '',\n",
       " '2 MIN READ',\n",
       " '',\n",
       " '',\n",
       " 'Aatish Bhatia, Josh Katz and John Keefe',\n",
       " 'The Great Read',\n",
       " 'What Happens When TikTok Is Your Marketing Department',\n",
       " '',\n",
       " 'The Pink Stuff, a home cleaning paste, went from total obscurity to viral sensation — and Walmart staple — thanks to one “cleanfluencer” and her legion of fans.',\n",
       " '',\n",
       " '6 MIN READ',\n",
       " '',\n",
       " 'Tubs of The Pink Stuff on a conveyor. ',\n",
       " 'Sam Bush for The New York Times',\n",
       " 'How China Built Its Tesla Killer',\n",
       " '',\n",
       " 'The leading Chinese electric vehicle company, BYD, started as a battery maker. Its sales have grown by about a million cars in each of the past two years.',\n",
       " '',\n",
       " '6 MIN READ']"
      ]
     },
     "execution_count": 27,
     "metadata": {},
     "output_type": "execute_result"
    }
   ],
   "source": [
    "rta"
   ]
  },
  {
   "cell_type": "code",
   "execution_count": 47,
   "id": "77f506a8",
   "metadata": {},
   "outputs": [],
   "source": [
    "rtaa = {}"
   ]
  },
  {
   "cell_type": "code",
   "execution_count": 59,
   "id": "f898e37b",
   "metadata": {},
   "outputs": [
    {
     "name": "stdout",
     "output_type": "stream",
     "text": [
      "2numbers\n",
      "1numbers\n",
      "1numbers\n",
      "3numbers\n",
      "1numbers\n",
      "3numbers\n",
      "0numbers\n",
      "9numbers\n",
      "24numbers\n",
      "2numbers\n",
      "9numbers\n",
      "21numbers\n",
      "2numbers\n",
      "16numbers\n",
      "2numbers\n",
      "24numbers\n",
      "2numbers\n",
      "0numbers\n",
      "6numbers\n",
      "1numbers\n",
      "10numbers\n",
      "25numbers\n",
      "3numbers\n",
      "12numbers\n",
      "2numbers\n",
      "18numbers\n",
      "2numbers\n",
      "10numbers\n",
      "0numbers\n",
      "6numbers\n",
      "2numbers\n",
      "2numbers\n",
      "2numbers\n",
      "2numbers\n",
      "2numbers\n",
      "12numbers\n",
      "26numbers\n",
      "2numbers\n",
      "19numbers\n",
      "2numbers\n",
      "13numbers\n",
      "2numbers\n",
      "18numbers\n",
      "14numbers\n",
      "2numbers\n",
      "12numbers\n",
      "2numbers\n",
      "19numbers\n",
      "13numbers\n",
      "2numbers\n",
      "18numbers\n",
      "15numbers\n",
      "2numbers\n",
      "14numbers\n",
      "2numbers\n",
      "30numbers\n",
      "12numbers\n",
      "2numbers\n",
      "4numbers\n",
      "16numbers\n",
      "2numbers\n",
      "6numbers\n",
      "12numbers\n",
      "19numbers\n",
      "2numbers\n",
      "18numbers\n",
      "2numbers\n",
      "6numbers\n",
      "2numbers\n",
      "7numbers\n",
      "27numbers\n",
      "2numbers\n",
      "8numbers\n",
      "6numbers\n",
      "5numbers\n",
      "27numbers\n",
      "2numbers\n"
     ]
    }
   ],
   "source": [
    "ct =0;\n",
    "for x in rta:\n",
    "    if x!='':\n",
    "        ct = x.count(\" \")\n",
    "        cname = str(ct)+\"numbers\"\n",
    "        print(cname)\n",
    "        rtaa[cname].append(x)\n",
    " #rtaa['test']=x"
   ]
  },
  {
   "cell_type": "code",
   "execution_count": 60,
   "id": "dbd19a6c",
   "metadata": {},
   "outputs": [
    {
     "data": {
      "text/plain": [
       "{'2numbers': ['6 MIN READ',\n",
       "  'Trump’s Legal Troubles',\n",
       "  '1 MIN READ',\n",
       "  '4 MIN READ',\n",
       "  '3 MIN READ',\n",
       "  'John Bazemore/Associated Press',\n",
       "  '3 MIN READ',\n",
       "  '3 MIN READ',\n",
       "  'Super Bowl LVIII',\n",
       "  'From The Athletic',\n",
       "  'Usher’s Halftime Show',\n",
       "  'The Commercials, Ranked',\n",
       "  'Taylor Swift’s Journey',\n",
       "  'FROM THE ATHLETIC',\n",
       "  'FROM THE ATHLETIC',\n",
       "  '8 MIN READ',\n",
       "  '4 MIN READ',\n",
       "  'FROM THE ATHLETIC',\n",
       "  '3 MIN READ',\n",
       "  '5 MIN READ',\n",
       "  'FROM THE ATHLETIC',\n",
       "  '3 MIN READ',\n",
       "  '5 MIN READ',\n",
       "  '3 MIN READ',\n",
       "  '2 MIN READ',\n",
       "  'The Great Read',\n",
       "  '6 MIN READ',\n",
       "  '6 MIN READ'],\n",
       " '1numbers': ['2M AGO',\n",
       "  'Key Inquiries',\n",
       "  'Case Tracker',\n",
       "  'Ballot Challenges',\n",
       "  '2M AGO'],\n",
       " '3numbers': ['See more updates 8+',\n",
       "  '3 Supreme Court Cases',\n",
       "  'E. Jean Carroll Trial',\n",
       "  'See more updates 8+'],\n",
       " '0numbers': ['3:36', 'BREAKING', 'LIVE', '3:36'],\n",
       " '9numbers': ['Trump Faces Supreme Court Deadline on Claim of Absolute Immunity',\n",
       "  'Georgia Judge Will Hear Evidence on Relationship Between Trump Prosecutors',\n",
       "  'Trump Faces Supreme Court Deadline on Claim of Absolute Immunity'],\n",
       " '24numbers': ['The allegations of a romantic relationship between the prosecutors Fani T. Willis and Nathan J. Wade first surfaced in a motion filed on Jan. 8.',\n",
       "  'Defense lawyers have accused Fani Willis, the Fulton County district attorney, of hiring Nathan Wade to run the case after they began a romantic relationship.',\n",
       "  'The allegations of a romantic relationship between the prosecutors Fani T. Willis and Nathan J. Wade first surfaced in a motion filed on Jan. 8.'],\n",
       " '21numbers': ['A federal appeals court gave Donald Trump until Monday to ask the justices to pause its ruling while he pursues an appeal.',\n",
       "  'A federal appeals court gave Donald Trump until Monday to ask the justices to pause its ruling while he pursues an appeal.'],\n",
       " '16numbers': ['Are humans the only beings in the universe confronting global self-destruction? Or just the last ones standing?',\n",
       "  'Hours after hearing arguments about whether Donald Trump could hold office, Justice Elena Kagan offered some reflections.',\n",
       "  'Are humans the only beings in the universe confronting global self-destruction? Or just the last ones standing?'],\n",
       " '6numbers': ['Sam Bush for The New York Times',\n",
       "  'Feb. 12, 2024, 4:01 p.m. ET2m ago',\n",
       "  'Mona El-Naggar, Neil Collier and Kristen Williamson',\n",
       "  'Photo Illustration by The New York Times',\n",
       "  'Aatish Bhatia, Josh Katz and John Keefe',\n",
       "  'Sam Bush for The New York Times'],\n",
       " '10numbers': ['She Survived an Airstrike That Killed Her Entire Family in Gaza',\n",
       "  'Hostage Rescue Raises Israelis’ Hopes; Gazans Fear New Wave of Bloodshed',\n",
       "  'She Survived an Airstrike That Killed Her Entire Family in Gaza'],\n",
       " '25numbers': ['A raid by Israeli forces in Rafah freed two hostages held by Hamas, the military said, and overnight attacks killed dozens of Palestinians, Gazan officials said.',\n",
       "  'A raid by Israeli forces in Rafah freed two hostages held by Hamas, the military said, and overnight attacks killed dozens of Palestinians, Gazan officials said.'],\n",
       " '12numbers': ['Nor’easter Expected to Bring New York City’s Heaviest Snow in Over 2 Years',\n",
       "  'Here’s what to know about the two hostages who were rescued in Rafah.',\n",
       "  'Kelce, After a Season Under the Microscope, Finishes ‘On Top of the World’',\n",
       "  'Some 49ers players said they were unaware of the Super Bowl’s overtime rules.',\n",
       "  'At the Super Bowl, Taylor Swift gave a fashion week brand a boost.',\n",
       "  'Nor’easter Expected to Bring New York City’s Heaviest Snow in Over 2 Years'],\n",
       " '18numbers': ['New York City public schools will hold classes remotely on Tuesday, as the metro area prepares for heavy snowfall.',\n",
       "  'A court in the Netherlands ordered the Dutch government to stop exporting parts for F-35 fighter jets to Israel.',\n",
       "  'A dark-haired man in glasses smiles and stands behind a blond woman with red earrings and stunned facial expression.',\n",
       "  'A man wearing a red football jersey raising his arms with televisions behind him showing the football game. ',\n",
       "  'New York City public schools will hold classes remotely on Tuesday, as the metro area prepares for heavy snowfall.'],\n",
       " '26numbers': ['Travis Kelce had to provide even more leadership and poise, all while dealing with a new level of pressure on the field and intense scrutiny off it.',\n",
       "  'Travis Kelce had to provide even more leadership and poise, all while dealing with a new level of pressure on the field and intense scrutiny off it.'],\n",
       " '19numbers': ['A storm starting Monday night will bring heavy snow to parts of New Jersey, New York and Connecticut, forecasters said.',\n",
       "  'Tony Romo and his play-by-play partner Jim Nantz’s lack of teamwork showed up at the worst time, our columnist writes.',\n",
       "  'A packed stage featuring Usher, Ludacris, Lil Jon and many others on a stage at the Super Bowl halftime show.',\n",
       "  'A storm starting Monday night will bring heavy snow to parts of New Jersey, New York and Connecticut, forecasters said.'],\n",
       " '13numbers': ['In his halftime show, Usher delivered a lesson in intimate showmanship, our critic writes.',\n",
       "  'Our television critic ranked all of the Super Bowl ads from best to worst.',\n",
       "  'In his halftime show, Usher delivered a lesson in intimate showmanship, our critic writes.'],\n",
       " '14numbers': ['Is Kansas City’s Andy Reid now one of the best N.F.L. coaches of all time?',\n",
       "  'CoStar Group, the real estate analytics company, made its Super Bowl debut with four ads.',\n",
       "  'Is Kansas City’s Andy Reid now one of the best N.F.L. coaches of all time?'],\n",
       " '15numbers': ['With daunting prices in the Super Bowl host city, some San Francisco gamblers embraced an alternative.',\n",
       "  'With daunting prices in the Super Bowl host city, some San Francisco gamblers embraced an alternative.'],\n",
       " '30numbers': ['A model poses backstage in an outfit composed of googly-eye circlets on top and an abbreviated skirt of mini googlies. She holds two metal googly eyes over her own eyes. ',\n",
       "  'A model poses backstage in an outfit composed of googly-eye circlets on top and an abbreviated skirt of mini googlies. She holds two metal googly eyes over her own eyes. '],\n",
       " '4numbers': ['The Doomsday Clock Keeps Ticking',\n",
       "  'The Doomsday Clock Keeps Ticking'],\n",
       " '7numbers': ['What Happens When TikTok Is Your Marketing Department',\n",
       "  'What Happens When TikTok Is Your Marketing Department'],\n",
       " '27numbers': ['The leading Chinese electric vehicle company, BYD, started as a battery maker. Its sales have grown by about a million cars in each of the past two years.',\n",
       "  'The Pink Stuff, a home cleaning paste, went from total obscurity to viral sensation — and Walmart staple — thanks to one “cleanfluencer” and her legion of fans.',\n",
       "  'The leading Chinese electric vehicle company, BYD, started as a battery maker. Its sales have grown by about a million cars in each of the past two years.'],\n",
       " '8numbers': ['Tubs of The Pink Stuff on a conveyor. ',\n",
       "  'Tubs of The Pink Stuff on a conveyor. '],\n",
       " '5numbers': ['How China Built Its Tesla Killer',\n",
       "  'How China Built Its Tesla Killer']}"
      ]
     },
     "execution_count": 60,
     "metadata": {},
     "output_type": "execute_result"
    }
   ],
   "source": [
    "rtaa"
   ]
  },
  {
   "cell_type": "code",
   "execution_count": 65,
   "id": "ff36ca0d",
   "metadata": {},
   "outputs": [
    {
     "ename": "ValueError",
     "evalue": "dictionary update sequence element #0 has length 8; 2 is required",
     "output_type": "error",
     "traceback": [
      "\u001b[1;31m---------------------------------------------------------------------------\u001b[0m",
      "\u001b[1;31mValueError\u001b[0m                                Traceback (most recent call last)",
      "Input \u001b[1;32mIn [65]\u001b[0m, in \u001b[0;36m<cell line: 1>\u001b[1;34m()\u001b[0m\n\u001b[1;32m----> 1\u001b[0m rtaas \u001b[38;5;241m=\u001b[39m \u001b[38;5;28;43mdict\u001b[39;49m\u001b[43m(\u001b[49m\u001b[38;5;28;43msorted\u001b[39;49m\u001b[43m(\u001b[49m\u001b[43mrtaa\u001b[49m\u001b[43m)\u001b[49m\u001b[43m)\u001b[49m\n",
      "\u001b[1;31mValueError\u001b[0m: dictionary update sequence element #0 has length 8; 2 is required"
     ]
    }
   ],
   "source": [
    "rtaas = dict(sorted(rtaa))"
   ]
  },
  {
   "cell_type": "code",
   "execution_count": 64,
   "id": "41e7a30a",
   "metadata": {},
   "outputs": [
    {
     "data": {
      "text/plain": [
       "['0numbers',\n",
       " '10numbers',\n",
       " '12numbers',\n",
       " '13numbers',\n",
       " '14numbers',\n",
       " '15numbers',\n",
       " '16numbers',\n",
       " '18numbers',\n",
       " '19numbers',\n",
       " '1numbers',\n",
       " '21numbers',\n",
       " '24numbers',\n",
       " '25numbers',\n",
       " '26numbers',\n",
       " '27numbers',\n",
       " '2numbers',\n",
       " '30numbers',\n",
       " '3numbers',\n",
       " '4numbers',\n",
       " '5numbers',\n",
       " '6numbers',\n",
       " '7numbers',\n",
       " '8numbers',\n",
       " '9numbers']"
      ]
     },
     "execution_count": 64,
     "metadata": {},
     "output_type": "execute_result"
    }
   ],
   "source": [
    "rtaas"
   ]
  },
  {
   "cell_type": "code",
   "execution_count": 66,
   "id": "71941bff",
   "metadata": {},
   "outputs": [
    {
     "name": "stdout",
     "output_type": "stream",
     "text": [
      "['0numbers', '10numbers', '12numbers', '13numbers', '14numbers', '15numbers', '16numbers', '18numbers', '19numbers', '1numbers', '21numbers', '24numbers', '25numbers', '26numbers', '27numbers', '2numbers', '30numbers', '3numbers', '4numbers', '5numbers', '6numbers', '7numbers', '8numbers', '9numbers']\n"
     ]
    }
   ],
   "source": [
    "print(rtaas)"
   ]
  },
  {
   "cell_type": "code",
   "execution_count": 67,
   "id": "0435546d",
   "metadata": {},
   "outputs": [
    {
     "ename": "NameError",
     "evalue": "name 'random' is not defined",
     "output_type": "error",
     "traceback": [
      "\u001b[1;31m---------------------------------------------------------------------------\u001b[0m",
      "\u001b[1;31mNameError\u001b[0m                                 Traceback (most recent call last)",
      "Input \u001b[1;32mIn [67]\u001b[0m, in \u001b[0;36m<cell line: 1>\u001b[1;34m()\u001b[0m\n\u001b[1;32m----> 1\u001b[0m theone \u001b[38;5;241m=\u001b[39m \u001b[43mrandom\u001b[49m\u001b[38;5;241m.\u001b[39mchoice(rtaa)\n",
      "\u001b[1;31mNameError\u001b[0m: name 'random' is not defined"
     ]
    }
   ],
   "source": [
    "theone = random.choice(rtaa)"
   ]
  },
  {
   "cell_type": "code",
   "execution_count": 68,
   "id": "23bb4e53",
   "metadata": {},
   "outputs": [],
   "source": [
    "import random"
   ]
  },
  {
   "cell_type": "code",
   "execution_count": 70,
   "id": "0e814b0a",
   "metadata": {},
   "outputs": [],
   "source": [
    "theone = random.choice(rtaas)"
   ]
  },
  {
   "cell_type": "code",
   "execution_count": 73,
   "id": "adde1640",
   "metadata": {},
   "outputs": [
    {
     "name": "stdout",
     "output_type": "stream",
     "text": [
      "10numbers\n"
     ]
    }
   ],
   "source": [
    "print(theone)"
   ]
  },
  {
   "cell_type": "code",
   "execution_count": 74,
   "id": "a15db061",
   "metadata": {},
   "outputs": [
    {
     "name": "stdout",
     "output_type": "stream",
     "text": [
      "['She Survived an Airstrike That Killed Her Entire Family in Gaza', 'Hostage Rescue Raises Israelis’ Hopes; Gazans Fear New Wave of Bloodshed', 'She Survived an Airstrike That Killed Her Entire Family in Gaza']\n"
     ]
    }
   ],
   "source": [
    "print(rtaa[theone])"
   ]
  },
  {
   "cell_type": "code",
   "execution_count": 75,
   "id": "7f424c4a",
   "metadata": {},
   "outputs": [],
   "source": [
    "outp = \"\\n\".join(rtaa[theone])"
   ]
  },
  {
   "cell_type": "code",
   "execution_count": 76,
   "id": "755770e9",
   "metadata": {},
   "outputs": [
    {
     "name": "stdout",
     "output_type": "stream",
     "text": [
      "She Survived an Airstrike That Killed Her Entire Family in Gaza\n",
      "Hostage Rescue Raises Israelis’ Hopes; Gazans Fear New Wave of Bloodshed\n",
      "She Survived an Airstrike That Killed Her Entire Family in Gaza\n"
     ]
    }
   ],
   "source": [
    "print(outp)"
   ]
  },
  {
   "cell_type": "code",
   "execution_count": null,
   "id": "c7352d3e",
   "metadata": {},
   "outputs": [],
   "source": []
  }
 ],
 "metadata": {
  "kernelspec": {
   "display_name": "Python 3 (ipykernel)",
   "language": "python",
   "name": "python3"
  },
  "language_info": {
   "codemirror_mode": {
    "name": "ipython",
    "version": 3
   },
   "file_extension": ".py",
   "mimetype": "text/x-python",
   "name": "python",
   "nbconvert_exporter": "python",
   "pygments_lexer": "ipython3",
   "version": "3.9.12"
  }
 },
 "nbformat": 4,
 "nbformat_minor": 5
}
