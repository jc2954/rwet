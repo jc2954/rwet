{
 "cells": [
  {
   "cell_type": "markdown",
   "id": "f21f83c8",
   "metadata": {},
   "source": [
    "# Villanelle generator\n",
    "\n",
    "**Using distilgpt2 and pronouncing to generate Villanelle following the rules below**\n",
    "\n",
    "1. **Length** 19 lines broken into tercets (three line stanzas) with the sixth stanza containing four lines. When it comes to individule line, there is no specific length or meter, though many poets follow iambic pentameter (like our heard beat one short beat and then a long beat: shall I com-PARE thee TO a SUM-mer's DAY?)\n",
    "\n",
    "2. **Rhyme scheme** each tercet of villanelle's rhyme scheme contains ABA, and the last tercet stanza follows ABAA\n",
    "\n",
    "3. **Repetition** the first line of the first stanza is the refrain line of the poem that gets used throghout the poem.It is the same as last line in second and forth stanzas and penultimate line of the last stanza\n",
    "\n",
    "4. **Ending** The last stanza is a final quatrain, ending with a couplet (which means the final line of this stanza should rhyme with the one before it).\n",
    "\n",
    "Example: \n",
    "\n",
    "*Do not go gentle into that good night*\n",
    "\n",
    "    Do not go gentle into that good night,\n",
    "    Old age should burn and rave at close of day;\n",
    "    Rage, rage against the dying of the light.\n",
    "\n",
    "    Though wise men at their end know dark is right,\n",
    "    Because their words had forked no lightning they\n",
    "    Do not go gentle into that good night.\n",
    "\n",
    "    Good men, the last wave by, crying how bright\n",
    "    Their frail deeds might have danced in a green bay,\n",
    "    Rage, rage against the dying of the light.\n",
    "\n",
    "    Wild men who caught and sang the sun in flight,\n",
    "    And learn, too late, they grieved it on its way,\n",
    "    Do not go gentle into that good night.\n",
    "\n",
    "    Grave men, near death, who see with blinding sight\n",
    "    Blind eyes could blaze like meteors and be gay,\n",
    "    Rage, rage against the dying of the light.\n",
    "\n",
    "    And you, my father, there on the sad height,\n",
    "    Curse, bless, me now with your fierce tears, I pray.\n",
    "    Do not go gentle into that good night.\n",
    "    Rage, rage against the dying of the light."
   ]
  },
  {
   "cell_type": "code",
   "execution_count": 1,
   "id": "23e7d29f",
   "metadata": {},
   "outputs": [],
   "source": [
    "import pronouncing"
   ]
  },
  {
   "cell_type": "code",
   "execution_count": 2,
   "id": "9d3451c9",
   "metadata": {},
   "outputs": [],
   "source": [
    "import random"
   ]
  },
  {
   "cell_type": "code",
   "execution_count": 19,
   "id": "e1e6ebb3",
   "metadata": {},
   "outputs": [
    {
     "data": {
      "text/plain": [
       "['good',\n",
       " 'in',\n",
       " 'are',\n",
       " 'hye',\n",
       " 'can',\n",
       " 'been',\n",
       " 'it',\n",
       " 'been',\n",
       " 'de',\n",
       " 'them',\n",
       " 'just',\n",
       " \"i'm\",\n",
       " 'the',\n",
       " 'years',\n",
       " \"'m\",\n",
       " 'did',\n",
       " 'this',\n",
       " 'with',\n",
       " 'whats',\n",
       " 'whats',\n",
       " 'does',\n",
       " 'sui',\n",
       " 'than',\n",
       " 'if',\n",
       " 'hers',\n",
       " 'her',\n",
       " 'er',\n",
       " 'is',\n",
       " 'mc',\n",
       " 'with',\n",
       " 'le',\n",
       " 'for',\n",
       " 'and',\n",
       " 'gmbh',\n",
       " 'will',\n",
       " 'has',\n",
       " \"'cause\",\n",
       " 'for',\n",
       " \"it's\",\n",
       " \"who've\",\n",
       " 'a',\n",
       " 'that',\n",
       " 'be',\n",
       " 'his',\n",
       " 'him',\n",
       " 'to',\n",
       " 'yours',\n",
       " \"'em\",\n",
       " 'was',\n",
       " 'its']"
      ]
     },
     "execution_count": 19,
     "metadata": {},
     "output_type": "execute_result"
    }
   ],
   "source": [
    "random.sample(pronouncing.search_stresses(\"^0$\"),50)"
   ]
  },
  {
   "cell_type": "code",
   "execution_count": 22,
   "id": "eedd4cc1",
   "metadata": {},
   "outputs": [
    {
     "data": {
      "text/plain": [
       "['endued',\n",
       " 'spokane',\n",
       " 'bizarre',\n",
       " 'fourtou',\n",
       " 'unsigned',\n",
       " \"report's\",\n",
       " 'cigars',\n",
       " 'aucoin',\n",
       " 'excludes',\n",
       " 'adriel',\n",
       " 'deplores',\n",
       " 'withdraw',\n",
       " 'mccleaf',\n",
       " 'varvel',\n",
       " 'hachette',\n",
       " 'revealed',\n",
       " 'cornet',\n",
       " 'lorain',\n",
       " 'compels',\n",
       " 'pajole',\n",
       " 'ballets',\n",
       " 'predate',\n",
       " 'unstained',\n",
       " 'receive',\n",
       " 'contain',\n",
       " 'reclaim',\n",
       " 'redeemed',\n",
       " \"gaubert's\",\n",
       " 'daigneault',\n",
       " 'safire',\n",
       " 'misprice',\n",
       " 'beseeched',\n",
       " 'endorsed',\n",
       " 'lecount',\n",
       " 'mcniel',\n",
       " 'retorts',\n",
       " 'vantrease',\n",
       " 'array',\n",
       " 'carouse',\n",
       " 'repeals',\n",
       " 'rebels',\n",
       " 'affords',\n",
       " 'subtract',\n",
       " 'betweens',\n",
       " 'lurette',\n",
       " 'reveres',\n",
       " 'depraved',\n",
       " 'acuff',\n",
       " 'routine',\n",
       " 'declined',\n",
       " 'disburse',\n",
       " 'deprive',\n",
       " 'curtail',\n",
       " 'delude',\n",
       " 'in-depth',\n",
       " 'recount',\n",
       " 'debriefs',\n",
       " 'catain',\n",
       " 'vanvoorst',\n",
       " 'olah',\n",
       " 'annoys',\n",
       " 'janelle',\n",
       " 'dubeau',\n",
       " 'coerce',\n",
       " 'cacique',\n",
       " 'preserve',\n",
       " 'enclose',\n",
       " 'dromgooles',\n",
       " 'fondue',\n",
       " 'richoux',\n",
       " 'aggrieve',\n",
       " 'delong',\n",
       " 'exult',\n",
       " 'versailles',\n",
       " 'robust',\n",
       " 'rechecked',\n",
       " 'rehearse',\n",
       " 'misguides',\n",
       " 'fulfills',\n",
       " 'bedard',\n",
       " 'hribar',\n",
       " 'demott',\n",
       " 'dupree',\n",
       " 'cerise',\n",
       " 'dakar',\n",
       " 'deblum',\n",
       " 'wilentz',\n",
       " 'reserved',\n",
       " 'refused',\n",
       " 'chapelle',\n",
       " 'alvord',\n",
       " 'despain',\n",
       " 'mccluer',\n",
       " 'beware',\n",
       " 'resumes',\n",
       " 'beutel',\n",
       " 'abrol',\n",
       " 'purloined',\n",
       " 'leclerc',\n",
       " 'phariss']"
      ]
     },
     "execution_count": 22,
     "metadata": {},
     "output_type": "execute_result"
    }
   ],
   "source": [
    "random.sample(pronouncing.search_stresses(\"^01$\"),100)"
   ]
  },
  {
   "cell_type": "code",
   "execution_count": 24,
   "id": "0264dd01",
   "metadata": {},
   "outputs": [
    {
     "data": {
      "text/plain": [
       "['bentz',\n",
       " 'brents',\n",
       " 'cents',\n",
       " 'ciments',\n",
       " 'circumvents',\n",
       " 'consents',\n",
       " 'contents',\n",
       " 'dents',\n",
       " 'descents',\n",
       " 'discontents',\n",
       " 'dissents',\n",
       " 'entz',\n",
       " \"event's\",\n",
       " \"event's\",\n",
       " 'events',\n",
       " 'events',\n",
       " 'ferments',\n",
       " 'frentz',\n",
       " \"gent's\",\n",
       " 'gents',\n",
       " 'gentz',\n",
       " 'hentz',\n",
       " 'intents',\n",
       " 'invents',\n",
       " 'jentz',\n",
       " \"kent's\",\n",
       " 'krentz',\n",
       " 'laments',\n",
       " 'lents',\n",
       " 'lentz',\n",
       " 'lentzsch',\n",
       " 'lorenz',\n",
       " 'malcontents',\n",
       " 'mentz',\n",
       " 'misrepresents',\n",
       " 'pentz',\n",
       " 'percents',\n",
       " 'presents',\n",
       " 'prevents',\n",
       " 'prevents',\n",
       " 'rents',\n",
       " 'rentz',\n",
       " 'repents',\n",
       " 'represents',\n",
       " 'resents',\n",
       " 'scents',\n",
       " 'segments',\n",
       " 'sentz',\n",
       " 'slentz',\n",
       " 'stentz',\n",
       " 'supplements',\n",
       " 'tents',\n",
       " \"trent's\",\n",
       " 'vents',\n",
       " 'wentz',\n",
       " 'zentz']"
      ]
     },
     "execution_count": 24,
     "metadata": {},
     "output_type": "execute_result"
    }
   ],
   "source": [
    "pronouncing.rhymes('wilentz')"
   ]
  },
  {
   "cell_type": "code",
   "execution_count": 3,
   "id": "22eed817",
   "metadata": {},
   "outputs": [],
   "source": [
    "from transformers import pipeline, AutoModelForCausalLM, AutoTokenizer"
   ]
  },
  {
   "cell_type": "code",
   "execution_count": 4,
   "id": "49517150",
   "metadata": {},
   "outputs": [],
   "source": [
    "tokenizer = AutoTokenizer.from_pretrained('distilgpt2-finetune-frankenstein20k')\n",
    "model = AutoModelForCausalLM.from_pretrained('distilgpt2-finetune-frankenstein20k')"
   ]
  },
  {
   "cell_type": "code",
   "execution_count": 5,
   "id": "82cd17da",
   "metadata": {},
   "outputs": [],
   "source": [
    "generator = pipeline('text-generation', model=model, tokenizer=tokenizer)"
   ]
  },
  {
   "cell_type": "code",
   "execution_count": 6,
   "id": "4cd20d05",
   "metadata": {},
   "outputs": [
    {
     "name": "stderr",
     "output_type": "stream",
     "text": [
      "Truncation was not explicitly activated but `max_length` is provided a specific value, please use `truncation=True` to explicitly truncate examples to max length. Defaulting to 'longest_first' truncation strategy. If you encode pairs of sequences (GLUE-style) with the tokenizer you can select this strategy more precisely by providing a specific strategy to `truncation`.\n",
      "Both `max_new_tokens` (=7) and `max_length`(=7) seem to have been set. `max_new_tokens` will take precedence. Please refer to the documentation for more information. (https://huggingface.co/docs/transformers/main/en/main_classes/text_generation)\n"
     ]
    },
    {
     "data": {
      "text/plain": [
       "'Spring flower in flower to celebrate new and fun holiday'"
      ]
     },
     "execution_count": 6,
     "metadata": {},
     "output_type": "execute_result"
    }
   ],
   "source": [
    "generator(\"Spring flower in\",\n",
    "          temperature=4.0,\n",
    "          max_new_tokens=7,\n",
    "          max_length=7)[0]['generated_text']"
   ]
  },
  {
   "cell_type": "code",
   "execution_count": 49,
   "id": "3aee39cf",
   "metadata": {},
   "outputs": [
    {
     "name": "stderr",
     "output_type": "stream",
     "text": [
      "Both `max_new_tokens` (=7) and `max_length`(=7) seem to have been set. `max_new_tokens` will take precedence. Please refer to the documentation for more information. (https://huggingface.co/docs/transformers/main/en/main_classes/text_generation)\n"
     ]
    },
    {
     "data": {
      "text/plain": [
       "'Spring flower in a park in her right place city.\"I have so good memories'"
      ]
     },
     "execution_count": 49,
     "metadata": {},
     "output_type": "execute_result"
    }
   ],
   "source": [
    "generator(\"Spring flower in a park in her right place\",\n",
    "          temperature=4.0,\n",
    "          max_new_tokens=7,\n",
    "          max_length=7)[0]['generated_text']\n",
    "    "
   ]
  },
  {
   "cell_type": "code",
   "execution_count": 50,
   "id": "d166ffa6",
   "metadata": {},
   "outputs": [
    {
     "name": "stderr",
     "output_type": "stream",
     "text": [
      "Both `max_new_tokens` (=7) and `max_length`(=7) seem to have been set. `max_new_tokens` will take precedence. Please refer to the documentation for more information. (https://huggingface.co/docs/transformers/main/en/main_classes/text_generation)\n"
     ]
    },
    {
     "data": {
      "text/plain": [
       "'Spring flower in a park in her right place city. I have so good memories backyard to the tune \"Best Buy'"
      ]
     },
     "execution_count": 50,
     "metadata": {},
     "output_type": "execute_result"
    }
   ],
   "source": [
    "generator(\"Spring flower in a park in her right place city. I have so good memories\",\n",
    "          temperature=4.0,\n",
    "          max_new_tokens=7,\n",
    "          max_length=7)[0]['generated_text']"
   ]
  },
  {
   "cell_type": "code",
   "execution_count": 16,
   "id": "bf4a93f9",
   "metadata": {},
   "outputs": [],
   "source": [
    "import re"
   ]
  },
  {
   "cell_type": "code",
   "execution_count": 1,
   "id": "ab758ae3",
   "metadata": {},
   "outputs": [],
   "source": [
    "#Check the last word or next to the last word is shorter than 4 characters to avoid short syllables. Create a new stanza with qaulifed words\n",
    "def reformstring(string):\n",
    "    newlist =[]\n",
    "    lis = string.split(\" \")\n",
    "    \n",
    "    if len(lis[len(lis)-1])<4:\n",
    "        lis.remove(lis[len(lis)-1])\n",
    "    if len(lis[len(lis)-1])<4:\n",
    "        lis.remove(lis[len(lis)-1])\n",
    "        \n",
    "    for i in range(0,len(lis)):\n",
    "        if re.search(\"[A-Z-a-z]+\",lis[i]):\n",
    "            newlist.append(lis[i])\n",
    "           \n",
    "            \n",
    "    newstring = (\" \").join(newlist)   \n",
    "    print(newlist)    \n",
    "    return newstring       \n",
    "        "
   ]
  },
  {
   "cell_type": "code",
   "execution_count": 2,
   "id": "dc9440d4",
   "metadata": {},
   "outputs": [],
   "source": [
    "def lastword(wd):\n",
    "    lis = wd.split(\" \")\n",
    "    length = len(lis)\n",
    "    if len(lis[length-1]) >= 4:\n",
    "       return lis[length-1]\n",
    "    else:\n",
    "        return lis[length-2]"
   ]
  },
  {
   "cell_type": "code",
   "execution_count": 9,
   "id": "1aefa1d2",
   "metadata": {},
   "outputs": [],
   "source": [
    "def phone(lwd):\n",
    "    np = pronouncing.phones_for_word(lwd)[0]\n",
    "    print(np)\n",
    "    lisp = np.split(\" \")\n",
    "    length = len(lisp)\n",
    "    lisp.pop(0)\n",
    "    #lisp.pop(length-1)\n",
    "    nnp = (\" \").join(lisp)\n",
    "    nword = pronouncing.search(\"^[A-Z]+ \"+nnp+\"$\")[:5]\n",
    "    return nword"
   ]
  },
  {
   "cell_type": "code",
   "execution_count": 10,
   "id": "c69e2656",
   "metadata": {},
   "outputs": [],
   "source": [
    "newwords=[]"
   ]
  },
  {
   "cell_type": "code",
   "execution_count": 11,
   "id": "2778e6d8",
   "metadata": {},
   "outputs": [],
   "source": [
    "def gstanza(seed,n,sant):\n",
    "    list = []\n",
    "    global newwords\n",
    "    for i in range(0,n):\n",
    "        if i==0:\n",
    "            st = generator(seed,\n",
    "            temperature=4.0,\n",
    "            max_new_tokens=7,\n",
    "            max_length=7,\n",
    "            bad_words_ids=tokenizer(\n",
    "              [\"^ \", \"‡\",\n",
    "               \"\\n\",'...',';','. ',', ','[','\\n\\n',').',') ','|','( ']).input_ids)[0]['generated_text']\n",
    "            st = st.strip()\n",
    "            st = reformstring(st)\n",
    "            lword = lastword(st)\n",
    "            if sant=='first':\n",
    "                 newwords=phone(lword)\n",
    "            else:\n",
    "                 print(random.choice(newwords))\n",
    "                 st=st.replace(lword,random.choice(newwords))\n",
    "            \n",
    "            list.append(st.strip())\n",
    "        else:\n",
    "            newst = generator(st,\n",
    "            temperature=4.0,\n",
    "            max_new_tokens=7,\n",
    "            max_length=7,\n",
    "            bad_words_ids=tokenizer(\n",
    "              [\"^ \", \"‡\",\n",
    "               \"\\n\",'...',';','. ',', ','[','\\n\\n',').',') ','|','( ']).input_ids)[0]['generated_text']\n",
    "            if i==1:\n",
    "                 list.append(newst.replace(st,'').strip())\n",
    "            else:\n",
    "                list.append(newst.replace(st,'').strip() + \" \" + random.choice(newwords))\n",
    "    \n",
    "    return list"
   ]
  },
  {
   "cell_type": "code",
   "execution_count": 17,
   "id": "1fc082e1",
   "metadata": {},
   "outputs": [
    {
     "name": "stderr",
     "output_type": "stream",
     "text": [
      "Both `max_new_tokens` (=7) and `max_length`(=7) seem to have been set. `max_new_tokens` will take precedence. Please refer to the documentation for more information. (https://huggingface.co/docs/transformers/main/en/main_classes/text_generation)\n"
     ]
    },
    {
     "name": "stdout",
     "output_type": "stream",
     "text": [
      "['A', 'barking', 'sound', 'to', 'many', 'and', 'countless', 'people', 'on', 'campus']\n"
     ]
    },
    {
     "name": "stderr",
     "output_type": "stream",
     "text": [
      "Both `max_new_tokens` (=7) and `max_length`(=7) seem to have been set. `max_new_tokens` will take precedence. Please refer to the documentation for more information. (https://huggingface.co/docs/transformers/main/en/main_classes/text_generation)\n"
     ]
    },
    {
     "name": "stdout",
     "output_type": "stream",
     "text": [
      "K AE1 M P AH0 S\n"
     ]
    },
    {
     "name": "stderr",
     "output_type": "stream",
     "text": [
      "Both `max_new_tokens` (=7) and `max_length`(=7) seem to have been set. `max_new_tokens` will take precedence. Please refer to the documentation for more information. (https://huggingface.co/docs/transformers/main/en/main_classes/text_generation)\n"
     ]
    },
    {
     "name": "stdout",
     "output_type": "stream",
     "text": [
      "['campus']\n"
     ]
    }
   ],
   "source": [
    "stanzaone = gstanza('A barking sound',3,'first')\n",
    "print(newwords)"
   ]
  },
  {
   "cell_type": "code",
   "execution_count": 18,
   "id": "a56ba046",
   "metadata": {},
   "outputs": [
    {
     "data": {
      "text/plain": [
       "['A barking sound to many and countless people on campus',\n",
       " 'animals throughout its way back then to',\n",
       " 'residents alike at our daily press office campus']"
      ]
     },
     "execution_count": 18,
     "metadata": {},
     "output_type": "execute_result"
    }
   ],
   "source": [
    "stanzaone"
   ]
  },
  {
   "cell_type": "code",
   "execution_count": 51,
   "id": "aef978fc",
   "metadata": {},
   "outputs": [
    {
     "name": "stderr",
     "output_type": "stream",
     "text": [
      "Both `max_new_tokens` (=7) and `max_length`(=7) seem to have been set. `max_new_tokens` will take precedence. Please refer to the documentation for more information. (https://huggingface.co/docs/transformers/main/en/main_classes/text_generation)\n",
      "Both `max_new_tokens` (=7) and `max_length`(=7) seem to have been set. `max_new_tokens` will take precedence. Please refer to the documentation for more information. (https://huggingface.co/docs/transformers/main/en/main_classes/text_generation)\n"
     ]
    },
    {
     "name": "stdout",
     "output_type": "stream",
     "text": [
      "['The', 'Dog', 'is', 'not', 'made', 'of', 'a', 'wood', 'to', 'resemble', 'dogs']\n",
      "heap\n",
      "['beep', 'cheap', 'deep', 'diep', 'heap']\n"
     ]
    }
   ],
   "source": [
    "stanzatwo = gstanza('The Dog is not',2,'second')\n",
    "stanzatwo.append(stanzaone[0])\n",
    "print(newwords)"
   ]
  },
  {
   "cell_type": "code",
   "execution_count": 52,
   "id": "31cc0582",
   "metadata": {},
   "outputs": [
    {
     "data": {
      "text/plain": [
       "['The Dog is not made of a wood to resemble beep',\n",
       " 'muscle nor can that affect which dog',\n",
       " 'A barking sound? No need: Go and keep']"
      ]
     },
     "execution_count": 52,
     "metadata": {},
     "output_type": "execute_result"
    }
   ],
   "source": [
    "stanzatwo"
   ]
  },
  {
   "cell_type": "code",
   "execution_count": 53,
   "id": "5aa2429a",
   "metadata": {},
   "outputs": [
    {
     "name": "stderr",
     "output_type": "stream",
     "text": [
      "Both `max_new_tokens` (=7) and `max_length`(=7) seem to have been set. `max_new_tokens` will take precedence. Please refer to the documentation for more information. (https://huggingface.co/docs/transformers/main/en/main_classes/text_generation)\n",
      "Both `max_new_tokens` (=7) and `max_length`(=7) seem to have been set. `max_new_tokens` will take precedence. Please refer to the documentation for more information. (https://huggingface.co/docs/transformers/main/en/main_classes/text_generation)\n"
     ]
    },
    {
     "name": "stdout",
     "output_type": "stream",
     "text": [
      "['It', 'was', 'a', 'covety', 'moment', 'as', 'its', 'light', 'shone']\n",
      "beep\n"
     ]
    }
   ],
   "source": [
    "stanzathree = gstanza('It was a cove',2,'third')\n",
    "stanzathree.append(stanzaone[2])"
   ]
  },
  {
   "cell_type": "code",
   "execution_count": 54,
   "id": "ea64d390",
   "metadata": {},
   "outputs": [
    {
     "data": {
      "text/plain": [
       "['It was a covety moment as its light deep',\n",
       " 'he opened up an in-progress',\n",
       " 'Thats right....We got about heap']"
      ]
     },
     "execution_count": 54,
     "metadata": {},
     "output_type": "execute_result"
    }
   ],
   "source": [
    "stanzathree"
   ]
  },
  {
   "cell_type": "code",
   "execution_count": 57,
   "id": "ec83e147",
   "metadata": {},
   "outputs": [
    {
     "name": "stderr",
     "output_type": "stream",
     "text": [
      "Both `max_new_tokens` (=7) and `max_length`(=7) seem to have been set. `max_new_tokens` will take precedence. Please refer to the documentation for more information. (https://huggingface.co/docs/transformers/main/en/main_classes/text_generation)\n",
      "Both `max_new_tokens` (=7) and `max_length`(=7) seem to have been set. `max_new_tokens` will take precedence. Please refer to the documentation for more information. (https://huggingface.co/docs/transformers/main/en/main_classes/text_generation)\n"
     ]
    },
    {
     "name": "stdout",
     "output_type": "stream",
     "text": [
      "['From', 'those', 'abrupt', 'alterations', 'behavior', 'have', 'contributed', 'considerably']\n",
      "deep\n"
     ]
    }
   ],
   "source": [
    "stanzafour = gstanza('From those abrupt',2,'four')\n",
    "stanzafour.append(stanzaone[0])"
   ]
  },
  {
   "cell_type": "code",
   "execution_count": 58,
   "id": "43d2e304",
   "metadata": {},
   "outputs": [
    {
     "data": {
      "text/plain": [
       "['From those abrupt alterations behavior have contributed deep',\n",
       " 'largely the first magnitude which the observations',\n",
       " 'A barking sound? No need: Go and keep']"
      ]
     },
     "execution_count": 58,
     "metadata": {},
     "output_type": "execute_result"
    }
   ],
   "source": [
    "stanzafour"
   ]
  },
  {
   "cell_type": "code",
   "execution_count": 34,
   "id": "595b0ec6",
   "metadata": {},
   "outputs": [
    {
     "name": "stderr",
     "output_type": "stream",
     "text": [
      "Both `max_new_tokens` (=7) and `max_length`(=7) seem to have been set. `max_new_tokens` will take precedence. Please refer to the documentation for more information. (https://huggingface.co/docs/transformers/main/en/main_classes/text_generation)\n",
      "Both `max_new_tokens` (=7) and `max_length`(=7) seem to have been set. `max_new_tokens` will take precedence. Please refer to the documentation for more information. (https://huggingface.co/docs/transformers/main/en/main_classes/text_generation)\n"
     ]
    },
    {
     "name": "stdout",
     "output_type": "stream",
     "text": [
      "['But', 'hear', 'a', 'wonder', 'a', 'day', 'that', 'might', 'bring', 'more', 'understanding']\n",
      "closed\n"
     ]
    }
   ],
   "source": [
    "stanzafive = gstanza('But hear a wonder',2,'five')\n",
    "stanzafive.append(stanzaone[2])"
   ]
  },
  {
   "cell_type": "code",
   "execution_count": 35,
   "id": "c64be0db",
   "metadata": {},
   "outputs": [
    {
     "data": {
      "text/plain": [
       "['But hear a wonder a day that might bring more closed',\n",
       " 'we no, ever want a moment',\n",
       " 'suddenly collapsed after the doors in St closed']"
      ]
     },
     "execution_count": 35,
     "metadata": {},
     "output_type": "execute_result"
    }
   ],
   "source": [
    "stanzafive"
   ]
  },
  {
   "cell_type": "code",
   "execution_count": 40,
   "id": "9abd0fda",
   "metadata": {},
   "outputs": [
    {
     "name": "stderr",
     "output_type": "stream",
     "text": [
      "Both `max_new_tokens` (=7) and `max_length`(=7) seem to have been set. `max_new_tokens` will take precedence. Please refer to the documentation for more information. (https://huggingface.co/docs/transformers/main/en/main_classes/text_generation)\n",
      "Both `max_new_tokens` (=7) and `max_length`(=7) seem to have been set. `max_new_tokens` will take precedence. Please refer to the documentation for more information. (https://huggingface.co/docs/transformers/main/en/main_classes/text_generation)\n"
     ]
    },
    {
     "name": "stdout",
     "output_type": "stream",
     "text": [
      "['He', 'knows', 'and', 'it', 'feels', 'great', 'after', 'seeing', 'myself']\n",
      "closed\n"
     ]
    }
   ],
   "source": [
    "stanzasix = gstanza('He knows',2,'six')\n",
    "stanzasix.append(stanzaone[0])\n",
    "stanzasix.append(stanzaone[2])"
   ]
  },
  {
   "cell_type": "code",
   "execution_count": 41,
   "id": "0f88a1b1",
   "metadata": {},
   "outputs": [
    {
     "data": {
      "text/plain": [
       "['He knows and it feels great after seeing closed',\n",
       " 'so close conversations: that it takes',\n",
       " 'A barking sound heard before their doors closed',\n",
       " 'suddenly collapsed after the doors in St closed']"
      ]
     },
     "execution_count": 41,
     "metadata": {},
     "output_type": "execute_result"
    }
   ],
   "source": [
    "stanzasix"
   ]
  },
  {
   "cell_type": "code",
   "execution_count": 42,
   "id": "324cceae",
   "metadata": {},
   "outputs": [
    {
     "name": "stdout",
     "output_type": "stream",
     "text": [
      "\n"
     ]
    }
   ],
   "source": [
    "def printall(v):\n",
    "    for i in v:\n",
    "        print(i)\n",
    "print()        \n",
    "        \n",
    "    "
   ]
  },
  {
   "cell_type": "code",
   "execution_count": 43,
   "id": "612363de",
   "metadata": {},
   "outputs": [
    {
     "name": "stdout",
     "output_type": "stream",
     "text": [
      "A barking sound heard before their doors closed\n",
      "open which alerted onlookrers. Police\n",
      "suddenly collapsed after the doors in St closed\n",
      "\n",
      "The Dog is not to appear in the closed\n",
      "vain, however to those with power\n",
      "A barking sound heard before their doors closed\n",
      "\n",
      "It was a cove with me as closed\n",
      "far inland it made no need ever\n",
      "suddenly collapsed after the doors in St closed\n",
      "\n",
      "From those abrupt shifts in productivity seem much closed\n",
      "unavoidable by a simple theory.... We\n",
      "A barking sound heard before their doors closed\n",
      "\n",
      "But hear a wonder a day that might bring more closed\n",
      "we no, ever want a moment\n",
      "suddenly collapsed after the doors in St closed\n",
      "\n",
      "He knows and it feels great after seeing closed\n",
      "so close conversations: that it takes\n",
      "A barking sound heard before their doors closed\n",
      "suddenly collapsed after the doors in St closed\n"
     ]
    }
   ],
   "source": [
    "printall(stanzaone)\n",
    "print() \n",
    "printall(stanzatwo)\n",
    "print() \n",
    "printall(stanzathree)\n",
    "print() \n",
    "printall(stanzafour)\n",
    "print() \n",
    "printall(stanzafive)\n",
    "print() \n",
    "printall(stanzasix)"
   ]
  },
  {
   "cell_type": "markdown",
   "id": "948e34b3",
   "metadata": {},
   "source": [
    "## Poem one\n",
    "\n",
    "    Spring flower in winter can grow up during summers here\n",
    "    every several generations — with many millions\n",
    "    with your feet near what used only bier\n",
    "\n",
    "    Autum moon on. A long flight has never teare\n",
    "    shot that was, and a man\n",
    "    Spring flower in winter can grow up during summers here\n",
    "\n",
    "    Winter snow over parts, particularly along seer\n",
    "    the Central ridge over South Florida but\n",
    "    with your feet near what used only bier\n",
    "\n",
    "    Summer storm over keir\n",
    "    omans is affecting Alaska so rapidly\n",
    "    Spring flower in winter can grow up during summers here\n",
    "\n",
    "    Four seasons are not complete now for them keir\n",
    "    an update until August 2017 with his\n",
    "    with your feet near what used only bier\n",
    "\n",
    "    The world is the heart: A love baehr\n",
    "    man of great power lives and dies\n",
    "    Spring flower in winter can grow up during summers here\n",
    "    with your feet near what used only bier"
   ]
  },
  {
   "cell_type": "markdown",
   "id": "00c2471e",
   "metadata": {},
   "source": [
    "## Poem two\n",
    "\n",
    "    A barking sound heard before their doors closed\n",
    "    open which alerted onlookrers. Police\n",
    "    suddenly collapsed after the doors in St closed\n",
    "\n",
    "    The Dog is not to appear in the closed\n",
    "    vain, however to those with power\n",
    "    A barking sound heard before their doors closed\n",
    "\n",
    "    It was a cove with me as closed\n",
    "    far inland it made no need ever\n",
    "    suddenly collapsed after the doors in St closed\n",
    "\n",
    "    From those abrupt shifts in productivity seem much closed\n",
    "    unavoidable by a simple theory.... We\n",
    "    A barking sound heard before their doors closed\n",
    "\n",
    "    But hear a wonder a day that might bring more closed\n",
    "    we no, ever want a moment\n",
    "    suddenly collapsed after the doors in St closed\n",
    "\n",
    "    He knows and it feels great after seeing closed\n",
    "    so close conversations: that it takes\n",
    "    A barking sound heard before their doors closed\n",
    "    suddenly collapsed after the doors in St closed\n",
    "\n",
    "Copy from \n",
    "\n",
    "Fidelity.\n",
    "“Fidelity,” by William Wordsworth (1770-1850), is placed here out of respect to a boy of eleven years who liked the poem well enough to recite it frequently. The scene is laid on Helvellyn, to me the most impressive mountain of the Lake District of England. Wordsworth is a part of this country. I once heard John Burroughs say: “I went to the Lake District to see what kind of a country it could be that would produce a Wordsworth.”\n",
    "\n",
    "    A barking sound the Shepherd hears,\n",
    "    A cry as of a dog or fox;\n",
    "    He halts—and searches with his eyes\n",
    "    Among the scattered rocks;\n",
    "    And now at distance can discern\n",
    "    A stirring in a brake of fern;\n",
    "    And instantly a Dog is seen,\n",
    "    Glancing through that covert green.\n",
    "    The Dog is not of mountain breed;\n",
    "    Its motions, too, are wild and shy;\n",
    "    With something, as the Shepherd thinks,\n",
    "    Unusual in its cry:\n",
    "    Nor is there any one in sight\n",
    "    All round, in hollow or on height;\n",
    "    Nor shout, nor whistle strikes his ear;\n",
    "    What is the Creature doing here?\n",
    "    It was a cove, a huge recess,\n",
    "    That keeps, till June, December’s snow.\n",
    "    A lofty precipice in front,\n",
    "    A silent tarn below!\n",
    "    Far in the bosom of Helvellyn,\n",
    "    Remote from public road or dwelling,\n",
    "    Pathway, or cultivated land;\n",
    "    From trace of human foot or hand.\n",
    "    There sometimes doth a leaping fish\n",
    "    Send through the tarn a lonely cheer;\n",
    "    The crags repeat the raven’s croak,\n",
    "    In symphony austere;\n",
    "    Thither the rainbow comes—the cloud—\n",
    "    And mists that spread the flying shroud;\n",
    "    And sunbeams; and the sounding blast,\n",
    "    That, if it could, would hurry past,\n",
    "    But that enormous barrier binds it fast.\n",
    "    Not free from boding thoughts, a while\n",
    "    The Shepherd stood: then makes his way\n",
    "    Toward the Dog, o’er rocks and stones,\n",
    "    As quickly as he may;\n",
    "    Nor far had gone, before he found\n",
    "    A human skeleton on the ground;\n",
    "    The appalled discoverer with a sigh\n",
    "    Looks round, to learn the history.\n",
    "    From those abrupt and perilous rocks\n",
    "    The Man had fallen, that place of fear!\n",
    "    At length upon the Shepherd’s mind\n",
    "    It breaks, and all is clear:\n",
    "    He instantly recalled the name,\n",
    "    And who he was, and whence he came;\n",
    "    Remembered, too, the very day\n",
    "    On which the traveller passed this way.\n",
    "    But hear a wonder, for whose sake\n",
    "    This lamentable tale I tell!\n",
    "    A lasting monument of words\n",
    "    This wonder merits well.\n",
    "    The Dog, which still was hovering nigh,\n",
    "    Repeating the same timid cry,\n",
    "    This Dog had been through three months space\n",
    "    A dweller in that savage place.\n",
    "    Yes, proof was plain that, since the day\n",
    "    When this ill-fated traveller died,\n",
    "    The Dog had watched about the spot,\n",
    "    Or by his master’s side:\n",
    "    How nourished here through such long time\n",
    "    He knows, who gave that love sublime;\n",
    "    And gave that strength of feeling, great\n",
    "    Above all human estimate.\n",
    "    William Wordsworth."
   ]
  },
  {
   "cell_type": "code",
   "execution_count": null,
   "id": "32430952",
   "metadata": {},
   "outputs": [],
   "source": []
  }
 ],
 "metadata": {
  "kernelspec": {
   "display_name": "Python 3 (ipykernel)",
   "language": "python",
   "name": "python3"
  },
  "language_info": {
   "codemirror_mode": {
    "name": "ipython",
    "version": 3
   },
   "file_extension": ".py",
   "mimetype": "text/x-python",
   "name": "python",
   "nbconvert_exporter": "python",
   "pygments_lexer": "ipython3",
   "version": "3.9.12"
  }
 },
 "nbformat": 4,
 "nbformat_minor": 5
}
