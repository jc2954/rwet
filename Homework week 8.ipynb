{
 "cells": [
  {
   "cell_type": "markdown",
   "id": "157b966b",
   "metadata": {},
   "source": [
    "# Week 8 Homework\n",
    "\n",
    "Try markovify chain to generate poem from a book of children's poem. Short sentences sound good. Markovify module is amazing"
   ]
  },
  {
   "cell_type": "code",
   "execution_count": 2,
   "id": "aeb02ca4",
   "metadata": {},
   "outputs": [],
   "source": [
    "poem = open(\"./children-poem.txt\", encoding=\"utf8\").read()"
   ]
  },
  {
   "cell_type": "code",
   "execution_count": 4,
   "id": "9b9f63a6",
   "metadata": {},
   "outputs": [],
   "source": [
    "import markovify"
   ]
  },
  {
   "cell_type": "code",
   "execution_count": 7,
   "id": "3537ae7c",
   "metadata": {},
   "outputs": [],
   "source": [
    "generator = markovify.Text(open(\"./children-poem.txt\",encoding='utf8').read())"
   ]
  },
  {
   "cell_type": "code",
   "execution_count": 16,
   "id": "a16fc8a3",
   "metadata": {},
   "outputs": [
    {
     "data": {
      "text/plain": [
       "['Our own true Maximilian the cornet white hath ta’en, The cornet white with fear and hatred, Scowled at the dawn of day, We saw the army of the fowl and the hum.',\n",
       " 'On with the sound of my own native land, In a moment leapt among the lions wild: His leap was quick, return was quick, return was quick, return was quick, he has bound a snow-white plume upon his gallant crest.',\n",
       " 'For each could swim on the Roman Three; And Lausulus of Urgo, The rover of the great Lord of Luna Fell at the narrow way; Aunus from green Tifernum, Lord of the mind!',\n",
       " 'To eastward and to westward The Consul fixed his eye, And many a lordly banner God gave them for a prey.',\n",
       " 'How fleet is a glance of the League drawn out in death, And the great Lord of the Gaul.',\n",
       " 'Now, from the bank above Droops to the sea, I am never to see.',\n",
       " 'Ho! gallant nobles of the little huts in the ruddy light!',\n",
       " 'But when they turned their faces, And on the tossing sea of life.',\n",
       " 'For each could swim on the crest Of purple Apennine.',\n",
       " 'So he spake, and speaking sheathed The good sword stood a handbreadth out Behind the Tuscan’s head.']"
      ]
     },
     "execution_count": 16,
     "metadata": {},
     "output_type": "execute_result"
    }
   ],
   "source": [
    "poemlong =[]\n",
    "for i in range(10):\n",
    "  sentence = generator.make_sentence()\n",
    "  poemlong.append(sentence)\n",
    "poemlong"
   ]
  },
  {
   "cell_type": "code",
   "execution_count": 19,
   "id": "31e7403c",
   "metadata": {},
   "outputs": [
    {
     "data": {
      "text/plain": [
       "['Fast by the joyous crowd.',\n",
       " 'And backward now and then send A wish or a Shakespeare.',\n",
       " 'A thousand spurs are striking deep, a thousand May well be stopped by three.',\n",
       " 'The homes of England!',\n",
       " 'Arm! arm! it is—it is the name of a little town.',\n",
       " 'Then, whirling up his chin.',\n",
       " 'Then glory to the sea.',\n",
       " 'Then, whirling up his chin.',\n",
       " 'But we of the Latian name, And by the sallies of youth.',\n",
       " 'The Nautilus and the brute.']"
      ]
     },
     "execution_count": 19,
     "metadata": {},
     "output_type": "execute_result"
    }
   ],
   "source": [
    "poem =[]\n",
    "for i in range(10):\n",
    "  sentenceshort = generator.make_short_sentence(80)\n",
    "  poem.append(sentenceshort)\n",
    "poem"
   ]
  },
  {
   "cell_type": "code",
   "execution_count": 20,
   "id": "f1f59473",
   "metadata": {},
   "outputs": [
    {
     "name": "stdout",
     "output_type": "stream",
     "text": [
      "Fast by the joyous crowd.\n",
      "And backward now and then send A wish or a Shakespeare.\n",
      "A thousand spurs are striking deep, a thousand May well be stopped by three.\n",
      "The homes of England!\n",
      "Arm! arm! it is—it is the name of a little town.\n",
      "Then, whirling up his chin.\n",
      "Then glory to the sea.\n",
      "Then, whirling up his chin.\n",
      "But we of the Latian name, And by the sallies of youth.\n",
      "The Nautilus and the brute.\n"
     ]
    }
   ],
   "source": [
    "for item in poem:\n",
    "    print(item)"
   ]
  },
  {
   "cell_type": "code",
   "execution_count": null,
   "id": "a83964df",
   "metadata": {},
   "outputs": [],
   "source": []
  }
 ],
 "metadata": {
  "kernelspec": {
   "display_name": "Python 3 (ipykernel)",
   "language": "python",
   "name": "python3"
  },
  "language_info": {
   "codemirror_mode": {
    "name": "ipython",
    "version": 3
   },
   "file_extension": ".py",
   "mimetype": "text/x-python",
   "name": "python",
   "nbconvert_exporter": "python",
   "pygments_lexer": "ipython3",
   "version": "3.9.12"
  }
 },
 "nbformat": 4,
 "nbformat_minor": 5
}
