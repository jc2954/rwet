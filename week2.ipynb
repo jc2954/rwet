{
 "cells": [
  {
   "cell_type": "markdown",
   "id": "40857d24",
   "metadata": {},
   "source": [
    "# Week2 Homework\n",
    "\n",
    "**Charles Hartman \"The Sinclair ZX-81\"** described different types of Random generate poems. The types includes: random, dice and other aleatory or chance, prodedures in music composition. He believed the pysical things happend in this world was by \"incidence\" or \"accidentally\". Computer generated poems can be beautiful and bring pleasue. \n",
    "\n",
    "\"In keeping with the idea of juxtaposition, modern poets somtime talk about the peom not as process or speech so much as composition. Poets who do so are usually thinkg in tersm of an analogy with visual arts. The artist'sjob is to compose, to place together in a meaningful arangemnt a number of independent elements. Paninters compose planes of color, shapes, collaged objects and so on. The poet's equivalents might be words, lines, phrases, quotations - any pieces of speech that can be treated as seperable and rearranged in some poetic \"space\".\"\n",
    "\n",
    "**Jackson Mac Low \"Poetry and Pleaseure\"** The primary reason for making an artwork is to *bring it into being*. All others - even pleasure (the pleasure of making artworks and the pleasure of experiencing them) - are subsidiary.\n",
    "\n",
    "\"However, because I countinue to find pleasure in being suprised by what I write, I've currently been pursuing a writingway involving both diastic (machine) reading-through text-selection, drawing sequences of single words from a source text, and careful revision of the output of this deterministic method.\" \"I *engage with contigency*\"\n",
    "\n",
    "\"Writing in ways that combine method, congigency, and free composition and the poetry and other work producted by doing so not only surprise me.\"\n",
    "\n",
    "**Lillian-Yvonne Bertram \"Unbreathed words: A Conversation with Lillian-Yvonne Bertram** Likes the poems online #!/usr/bin/env python and trying some code."
   ]
  },
  {
   "cell_type": "code",
   "execution_count": 6,
   "id": "c3599e11",
   "metadata": {},
   "outputs": [],
   "source": [
    "import random, textwrap\n",
    "import sys\n",
    "lines = \\\n",
    "[[\"\\nPeople also ask/why is Harriet Tubman/important/to the world\", \"1/4\", \"2/3\", \"1\"],\\\n",
    "#References google search terms\n",
    "[\"\\nin each pound of dollar bills/\", \"1/2\", \"3/4\", \"1\"],\\\n",
    "#According to cotton.org\n",
    "[\"\\n\\tthe dollar/hasn't/changed\", \"3/4\", \"1/2\", \"1\"],\\\n",
    "[\"\\n\\tin no rush/the first quail calls\", \"1/3\", \"2/3\", \"1\"],\\\n",
    "[\"\\n\\tto put Tubman/on the $20/bill\", \"2/4\", \"3/4\", \"1\"], \\\n",
    "#According to a CNN Money article from ‘16\n",
    "[\"\\nour Moses/never lost a passenger/\", \"1/4\", \"2/4\", \"2\"],\\\n",
    "#So it’s been said about Harriet Tubman’s track record\n",
    "[\"\\n\\tJesus is/a friend with friends\", \"1/4\", \"2/4\", \"2\"],\\\n",
    "[\"\\nI just wanted the world/to see\", \"2/3\", \"2/3\", \"2\"],\\\n",
    "#Spoken by Mamie Till as to why she wanted Emmett’s\n",
    "#coffin open.\n",
    "[\"\\n\\tSlave patrol/also called/patterrollers/pattyrollers/paddy rollers/patrollers/\", \"3/4\", \"1/3\", \"2\"],\\\n",
    "#According to wikipedia\n",
    "[\"\\nshe said/a friend of a friend/of a friend/sent me\", \"3/4\", \"1/2\", \"2\"],\\\n",
    "#According to https://tinyurl.com/yddx6qaj\n",
    "[\"\\n\\tdrove toward Money, Mississippi/$$$$$$\", \"1/2\", \"1/2\", \"3\"],\\\n",
    "#According to Wikipedia, Emmett Till’s abductors drove him\n",
    "#toward the town of Money, Mississippi\n",
    "[\"\\n\\tPeople also ask \\twhat is Harriet Tubman/most/most famous for\", \"2/3\", \"3/4\", \"3\"],\\\n",
    "[\"\\nPeople also ask/what was Harriet Tubman's/life like?\", \"1/2\", \"2/3\", \"3\"],\\\n",
    "[\"\\n\\tTreasure secretary/just like Jesus/we won't stay dead\", \"2/3\", \"1/4\", \"3\"]]\n",
    "#code adapted for Python3\n",
    "#code from github and translated from the Italian\n",
    "#is a reconstruction of the method thought to have been used\n",
    "#for Nanni Balestrini’s electronic poem Tape Mark 1, 1962\n",
    "# https://github.com/fanfani/TAPE-MARK-1\n",
    "random.shuffle(lines)"
   ]
  },
  {
   "cell_type": "code",
   "execution_count": 4,
   "id": "0abb52c4",
   "metadata": {},
   "outputs": [],
   "source": [
    "stantza_one = [None]*10"
   ]
  },
  {
   "cell_type": "code",
   "execution_count": 5,
   "id": "eb9ca97d",
   "metadata": {},
   "outputs": [
    {
     "data": {
      "text/plain": [
       "[None, None, None, None, None, None, None, None, None, None]"
      ]
     },
     "execution_count": 5,
     "metadata": {},
     "output_type": "execute_result"
    }
   ],
   "source": [
    "stantza_one"
   ]
  },
  {
   "cell_type": "code",
   "execution_count": 7,
   "id": "5c1dac6e",
   "metadata": {},
   "outputs": [],
   "source": [
    "stantza_one[0] = lines[0]\n"
   ]
  },
  {
   "cell_type": "code",
   "execution_count": 8,
   "id": "e92de21b",
   "metadata": {},
   "outputs": [
    {
     "data": {
      "text/plain": [
       "['\\nshe said/a friend of a friend/of a friend/sent me', '3/4', '1/2', '2']"
      ]
     },
     "execution_count": 8,
     "metadata": {},
     "output_type": "execute_result"
    }
   ],
   "source": [
    "stantza_one[0]"
   ]
  },
  {
   "cell_type": "code",
   "execution_count": 9,
   "id": "898e1849",
   "metadata": {},
   "outputs": [
    {
     "data": {
      "text/plain": [
       "[['\\nshe said/a friend of a friend/of a friend/sent me', '3/4', '1/2', '2'],\n",
       " None,\n",
       " None,\n",
       " None,\n",
       " None,\n",
       " None,\n",
       " None,\n",
       " None,\n",
       " None,\n",
       " None]"
      ]
     },
     "execution_count": 9,
     "metadata": {},
     "output_type": "execute_result"
    }
   ],
   "source": [
    "stantza_one"
   ]
  },
  {
   "cell_type": "code",
   "execution_count": null,
   "id": "ed8b61a9",
   "metadata": {},
   "outputs": [],
   "source": []
  }
 ],
 "metadata": {
  "kernelspec": {
   "display_name": "Python 3 (ipykernel)",
   "language": "python",
   "name": "python3"
  },
  "language_info": {
   "codemirror_mode": {
    "name": "ipython",
    "version": 3
   },
   "file_extension": ".py",
   "mimetype": "text/x-python",
   "name": "python",
   "nbconvert_exporter": "python",
   "pygments_lexer": "ipython3",
   "version": "3.9.12"
  }
 },
 "nbformat": 4,
 "nbformat_minor": 5
}
