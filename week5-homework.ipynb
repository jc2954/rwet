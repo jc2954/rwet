{
 "cells": [
  {
   "cell_type": "markdown",
   "id": "519d3f20",
   "metadata": {},
   "source": [
    "# Week5 Homework\n",
    "\n",
    "## Create a Haiku from Feb 12 New York Times Headlines\n",
    "\n",
    "1. read a text file with a copy of NYTimes headlines\n",
    "2. create a list from text by new lines\n",
    "3. filter out a list of words and punctuations\n",
    "4. create a new dictionary with syllables as key\n",
    "5. use tracery model to create a Haiku\n",
    "\n"
   ]
  },
  {
   "cell_type": "code",
   "execution_count": 40,
   "id": "0f584548",
   "metadata": {},
   "outputs": [],
   "source": [
    "import random;\n",
    "import textwrap;\n",
    "import tracery;\n",
    "\n",
    "from tracery.modifiers import base_english\n",
    "\n",
    "\n",
    "f = open(\"read.txt\").read()\n"
   ]
  },
  {
   "cell_type": "code",
   "execution_count": 39,
   "id": "e3eb6817",
   "metadata": {},
   "outputs": [
    {
     "name": "stdout",
     "output_type": "stream",
     "text": [
      "Haiku for Feb 12\n",
      "Sam Bush for New York Times\n",
      "What Happens When TikTok Is Your Marketing Department\n",
      "Tubs of Pink Stuff on conveyor \n"
     ]
    }
   ],
   "source": [
    "readout = f.split(\"\\n\")\n",
    "\n",
    "dontwant= ['the ','The ','a ', ',' ,'when ','as ', 'what ','when ', 'and ', 'by ','.']\n",
    "\n",
    "rtaa = {}\n",
    "ct =0;\n",
    "for x in readout:\n",
    "    if x!='':\n",
    "        for i in dontwant:\n",
    "           x = x.replace(i,'')\n",
    "        \n",
    "        ct = x.count(\" \")\n",
    "        cname = str(ct)\n",
    "        if cname in rtaa:\n",
    "         rtaa[cname].insert(0,x)\n",
    "        else:\n",
    "            rtaa[cname]=[x] \n",
    "           \n",
    "\n",
    "\n",
    "listbyorder = sorted(rtaa)\n",
    "#print(rtaa['7'])\n",
    "\n",
    "rules = {\n",
    "    'origin': 'Haiku for Feb 12\\n#firstline#\\n#secondline#\\n#thirdline#',\n",
    "    'firstline': rtaa[\"5\"],\n",
    "    'secondline':rtaa[\"7\"],\n",
    "    'thirdline':rtaa[\"6\"]\n",
    "}\n",
    "\n",
    "grammar = tracery.Grammar(rules)\n",
    "grammar.add_modifiers(base_english)\n",
    "print(grammar.flatten(\"#origin#\"))"
   ]
  }
 ],
 "metadata": {
  "kernelspec": {
   "display_name": "Python 3 (ipykernel)",
   "language": "python",
   "name": "python3"
  },
  "language_info": {
   "codemirror_mode": {
    "name": "ipython",
    "version": 3
   },
   "file_extension": ".py",
   "mimetype": "text/x-python",
   "name": "python",
   "nbconvert_exporter": "python",
   "pygments_lexer": "ipython3",
   "version": "3.9.12"
  }
 },
 "nbformat": 4,
 "nbformat_minor": 5
}
